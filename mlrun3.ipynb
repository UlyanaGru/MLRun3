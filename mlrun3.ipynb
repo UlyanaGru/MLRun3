{
 "cells": [
  {
   "cell_type": "markdown",
   "id": "163fb5c8",
   "metadata": {},
   "source": [
    "Step 1: Tabular Q-learning with SoftMax policy"
   ]
  },
  {
   "cell_type": "code",
   "execution_count": 1,
   "id": "f7ac9722",
   "metadata": {},
   "outputs": [],
   "source": [
    "import os\n",
    "import sys\n",
    "import matplotlib.pyplot as plt\n",
    "import numpy as np\n",
    "\n",
    "%matplotlib inline"
   ]
  },
  {
   "cell_type": "code",
   "execution_count": 9,
   "id": "ade1e963",
   "metadata": {},
   "outputs": [],
   "source": [
    "def my_softmax(values: np.ndarray, T=1.):\n",
    "    # Subtract max for numerical stability\n",
    "    shifted_values = values - np.max(values)\n",
    "    exp_values = np.exp(shifted_values / T)\n",
    "    probas = exp_values / np.sum(exp_values)\n",
    "    return probas"
   ]
  },
  {
   "cell_type": "code",
   "execution_count": 10,
   "id": "ca6be403",
   "metadata": {},
   "outputs": [
    {
     "name": "stdout",
     "output_type": "stream",
     "text": [
      "test_data: [0 1 2 3 4]\n",
      "\n",
      "Testing temp=0.1\n",
      "local_softmax: [4.24816138e-18 9.35719813e-14 2.06106005e-09 4.53978686e-05\n",
      " 9.99954600e-01]\n",
      "torch_softmax: [4.248161e-18 9.357198e-14 2.061060e-09 4.539787e-05 9.999546e-01]\n",
      "Are they close? True\n",
      "Passed for temp=0.1\n",
      "\n",
      "Testing temp=0.5\n",
      "local_softmax: [2.90075868e-04 2.14338686e-03 1.58376057e-02 1.17024957e-01\n",
      " 8.64703974e-01]\n",
      "torch_softmax: [2.9007587e-04 2.1433870e-03 1.5837606e-02 1.1702495e-01 8.6470395e-01]\n",
      "Are they close? True\n",
      "Passed for temp=0.5\n",
      "\n",
      "Testing temp=1\n",
      "local_softmax: [0.01165623 0.03168492 0.08612854 0.23412166 0.63640865]\n",
      "torch_softmax: [0.01165623 0.03168492 0.08612854 0.23412165 0.6364086 ]\n",
      "Are they close? True\n",
      "Passed for temp=1\n",
      "\n",
      "Testing temp=5\n",
      "local_softmax: [0.12885125 0.15737927 0.19222347 0.23478228 0.28676373]\n",
      "torch_softmax: [0.12885125 0.15737927 0.19222347 0.2347823  0.28676373]\n",
      "Are they close? True\n",
      "Passed for temp=5\n"
     ]
    }
   ],
   "source": [
    "test_data = np.arange(5)\n",
    "print(\"test_data:\", test_data)\n",
    "\n",
    "for temp in [0.1, 0.5, 1, 5]:\n",
    "    print(f\"\\nTesting temp={temp}\")\n",
    "    \n",
    "    local_softmax = my_softmax(test_data, T=temp)\n",
    "    print(\"local_softmax:\", local_softmax)\n",
    "    \n",
    "    with torch.no_grad():\n",
    "        torch_softmax = torch.softmax(torch.from_numpy(test_data)/temp, dim=-1)\n",
    "    print(\"torch_softmax:\", torch_softmax.numpy())\n",
    "    \n",
    "    print(\"Are they close?\", np.allclose(local_softmax, torch_softmax.numpy()))\n",
    "    \n",
    "    assert np.allclose(local_softmax, torch_softmax.numpy())\n",
    "    print(f'Passed for temp={temp}')"
   ]
  },
  {
   "cell_type": "code",
   "execution_count": 11,
   "id": "6baab960",
   "metadata": {},
   "outputs": [
    {
     "name": "stdout",
     "output_type": "stream",
     "text": [
      "Passed for temp=0.1\n",
      "Passed for temp=0.5\n",
      "Passed for temp=1\n",
      "Passed for temp=5\n"
     ]
    }
   ],
   "source": [
    "import torch\n",
    "test_data = np.arange(5)\n",
    "for temp in [0.1, 0.5, 1, 5]:\n",
    "    local_softmax = my_softmax(test_data, T=temp)\n",
    "    with torch.no_grad():\n",
    "        torch_softmax = torch.softmax(torch.from_numpy(test_data)/temp, dim=-1)\n",
    "    assert np.allclose(local_softmax, torch_softmax.numpy())\n",
    "    print(f'Passed for temp={temp}')"
   ]
  },
  {
   "cell_type": "code",
   "execution_count": 12,
   "id": "bb66f488",
   "metadata": {},
   "outputs": [
    {
     "data": {
      "text/plain": [
       "Text(0.5, 1.0, 'Example softmax with temp = 1')"
      ]
     },
     "execution_count": 12,
     "metadata": {},
     "output_type": "execute_result"
    },
    {
     "data": {
      "image/png": "[encoded data removed]",
      "text/plain": [
       "<Figure size 640x480 with 1 Axes>"
      ]
     },
     "metadata": {},
     "output_type": "display_data"
    }
   ],
   "source": [
    "temp = 1\n",
    "plt.bar(test_data, my_softmax(test_data, T=temp))\n",
    "plt.title(f'Example softmax with temp = {temp}')"
   ]
  },
  {
   "cell_type": "code",
   "execution_count": null,
   "id": "88daab4d",
   "metadata": {},
   "outputs": [],
   "source": [
    "import random\n",
    "from collections import defaultdict\n",
    "\n",
    "\n",
    "class QLearningAgent:\n",
    "    def __init__(self, alpha, discount, get_legal_actions, temp=1.):\n",
    "        \"\"\"\n",
    "        Q-Learning Agent\n",
    "        based on https://inst.eecs.berkeley.edu/~cs188/sp19/projects.html\n",
    "        Instance variables you have access to\n",
    "          - self.epsilon (exploration prob)\n",
    "          - self.alpha (learning rate)\n",
    "          - self.discount (discount rate aka gamma)\n",
    "\n",
    "        Functions you should use\n",
    "          - self.get_legal_actions(state) {state, hashable -> list of actions, each is hashable}\n",
    "            which returns legal actions for a state\n",
    "          - self.get_qvalue(state,action)\n",
    "            which returns Q(state,action)\n",
    "          - self.set_qvalue(state,action,value)\n",
    "            which sets Q(state,action) := value\n",
    "        !!!Important!!!\n",
    "        Note: please avoid using self._qValues directly.\n",
    "            There's a special self.get_qvalue/set_qvalue for that.\n",
    "        \"\"\"\n",
    "\n",
    "        self.get_legal_actions = get_legal_actions\n",
    "        self._qvalues = defaultdict(lambda: defaultdict(lambda: 0))\n",
    "        self.alpha = alpha\n",
    "        self.discount = discount\n",
    "        self.temp = temp\n",
    "\n",
    "    def get_qvalue(self, state, action):\n",
    "        \"\"\"Returns Q(state,action)\"\"\"\n",
    "        return self._qvalues[state][action]\n",
    "\n",
    "    def set_qvalue(self, state, action, value):\n",
    "        \"\"\"Sets the Qvalue for [state,action] to the given value\"\"\"\n",
    "        self._qvalues[state][action] = value\n",
    "\n",
    "    def get_value(self, state):\n",
    "        \"\"\"\n",
    "        Compute your agent's estimate of V(s) using current q-values\n",
    "        V(s) = max_over_action Q(state,action) over possible actions.\n",
    "        Note: please take into account that q-values can be negative.\n",
    "        \"\"\"\n",
    "        possible_actions = self.get_legal_actions(state)\n",
    "\n",
    "        # If there are no legal actions, return 0.0\n",
    "        if len(possible_actions) == 0:\n",
    "            return 0.0\n",
    "\n",
    "        # YOUR CODE HERE\n",
    "        # Calculate the approximation of value function V(s).\n",
    "        q_values = [self.get_qvalue(state, action) for action in possible_actions]\n",
    "        value = np.max(q_values)\n",
    "        value = None\n",
    "        assert value is not None\n",
    "\n",
    "        return value\n",
    "\n",
    "    def update(self, state, action, reward, next_state):\n",
    "        \"\"\"\n",
    "        You should do your Q-Value update here:\n",
    "           Q(s,a) := (1 - alpha) * Q(s,a) + alpha * (r + gamma * V(s'))\n",
    "        \"\"\"\n",
    "\n",
    "        # agent parameters\n",
    "        gamma = self.discount\n",
    "        learning_rate = self.alpha\n",
    "\n",
    "        # YOUR CODE HERE\n",
    "        # Calculate the updated value of Q(s, a).\n",
    "        current_q = self.get_qvalue(state, action)\n",
    "        next_value = self.get_value(next_state)\n",
    "        qvalue = (1 - learning_rate) * current_q + learning_rate * (reward + gamma * next_value)\n",
    "\n",
    "        self.set_qvalue(state, action, qvalue)\n",
    "\n",
    "    def get_best_action(self, state):\n",
    "        \"\"\"\n",
    "        Compute the best action to take in a state (using current q-values).\n",
    "        \"\"\"\n",
    "        possible_actions = self.get_legal_actions(state)\n",
    "\n",
    "        # If there are no legal actions, return None\n",
    "        if len(possible_actions) == 0:\n",
    "            return None\n",
    "\n",
    "        # YOUR CODE HERE\n",
    "        # Choose the best action wrt the qvalues.\n",
    "        q_values = [self.get_qvalue(state, action) for action in possible_actions]\n",
    "        best_action = possible_actions[np.argmax(q_values)]\n",
    "\n",
    "        return best_action\n",
    "\n",
    "    def get_softmax_policy(self, state):\n",
    "        \"\"\"\n",
    "        Compute all actions probabilities in the current state according\n",
    "        to their q-values using softmax policy.\n",
    "\n",
    "        Actions probability should be computed as\n",
    "        p(a_i|s) = softmax([q(s, a_1), q(s, a_2), ... q(s, a_k)])_i\n",
    "        Softmax temperature is set to `self.temp`.\n",
    "        See the formula in the notebook for more details\n",
    "        \"\"\"\n",
    "        possible_actions = self.get_legal_actions(state)\n",
    "        # If there are no legal actions, return None\n",
    "        if len(possible_actions) == 0:\n",
    "            return None\n",
    "\n",
    "        # YOUR CODE HERE\n",
    "        # Compute all actions probabilities in the current state using softmax\n",
    "        q_values = None\n",
    "        assert q_values is not None\n",
    "        probabilities = None\n",
    "        assert probabilities is not None\n",
    "\n",
    "        return probabilities\n",
    "\n",
    "\n",
    "    def get_action(self, state):\n",
    "        \"\"\"\n",
    "        Compute the action to take in the current state, including exploration.\n",
    "        Select actions according to softmax policy.\n",
    "\n",
    "        Note: To pick randomly from a list, use np.random.choice(..., p=actions_probabilities)\n",
    "              To pick True or False with a given probablity, generate uniform number in [0, 1]\n",
    "              and compare it with your probability\n",
    "        \"\"\"\n",
    "        possible_actions = self.get_legal_actions(state)\n",
    "        # If there are no legal actions, return None\n",
    "        if len(possible_actions) == 0:\n",
    "            return None\n",
    "\n",
    "        # YOUR CODE HERE\n",
    "        # Select the action to take in the current state according to the policy\n",
    "        chosen_action = None\n",
    "        assert chosen_action is not None\n",
    "        return chosen_action"
   ]
  }
 ],
 "metadata": {
  "kernelspec": {
   "display_name": "Python 3",
   "language": "python",
   "name": "python3"
  },
  "language_info": {
   "codemirror_mode": {
    "name": "ipython",
    "version": 3
   },
   "file_extension": ".py",
   "mimetype": "text/x-python",
   "name": "python",
   "nbconvert_exporter": "python",
   "pygments_lexer": "ipython3",
   "version": "3.12.4"
  }
 },
 "nbformat": 4,
 "nbformat_minor": 5
}
